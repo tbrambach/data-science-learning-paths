{
 "cells": [
  {
   "cell_type": "markdown",
   "id": "93805fac",
   "metadata": {},
   "source": [
    "# Cycling power data"
   ]
  },
  {
   "cell_type": "code",
   "execution_count": null,
   "id": "9663c1bb",
   "metadata": {},
   "outputs": [],
   "source": [
    "import pandas as pd\n",
    "import numpy as np\n",
    "\n",
    "import matplotlib.pyplot as plt\n",
    "\n",
    "from sklearn.ensemble import RandomForestRegressor"
   ]
  },
  {
   "cell_type": "code",
   "execution_count": null,
   "id": "dfaa219b",
   "metadata": {},
   "outputs": [],
   "source": [
    "df = pd.read_csv('../.assets/data/cycling/cycling.csv')"
   ]
  },
  {
   "cell_type": "code",
   "execution_count": null,
   "id": "9e1ee7b2",
   "metadata": {
    "scrolled": true
   },
   "outputs": [],
   "source": [
    "df.head()"
   ]
  },
  {
   "cell_type": "markdown",
   "id": "0838a97f",
   "metadata": {},
   "source": [
    "## Description of the dataset\n",
    "\n",
    "Timeseries of location and telemetry data containing:\n",
    "\n",
    "* ```time```: time (UTC)\n",
    "* ```lon```: position geographic longitude\n",
    "* ```lat```: position geographic lattitude\n",
    "* ```height```: position geographic height over sealevel\n",
    "* ```power```: rider power output / W\n",
    "* ```hr```: rider heartrate / bpm\n",
    "* ```d```: cumulated distance travelled\n",
    "* ```dist```: same as ```d```\n",
    "* ```t```: ellapsed time / s\n",
    "* ```x```: lateral position / m in reference frame\n",
    "* ```y```: longitudal position / m in reference frame\n",
    "* ```dxy```: distance between datapoints from cartesic coordinates\n",
    "* ```newlap```: marker for beginning of new lap\n",
    "* ```lap```: lap number"
   ]
  },
  {
   "cell_type": "markdown",
   "id": "40498029",
   "metadata": {},
   "source": [
    "## A shape, well known by motorsport enthusiasts"
   ]
  },
  {
   "cell_type": "code",
   "execution_count": null,
   "id": "7e1213f8",
   "metadata": {},
   "outputs": [],
   "source": [
    "plt.scatter(df.lon, df.lat)"
   ]
  },
  {
   "cell_type": "markdown",
   "id": "3ec8db95",
   "metadata": {},
   "source": [
    "## The relationship between power and heartrate\n",
    "\n",
    "If you press harder, your heartrate goes up. Sometimes it is as simple as that. So we should be able to see that in the data, right?"
   ]
  },
  {
   "cell_type": "code",
   "execution_count": null,
   "id": "60a93add",
   "metadata": {},
   "outputs": [],
   "source": [
    "plt.figure(dpi=200, figsize=(8,4))\n",
    "\n",
    "plt.plot(df.hr)\n",
    "plt.xlabel('elapsed time / s')\n",
    "plt.ylabel('heartrate / bpm')\n",
    "\n",
    "plt.twinx().plot(df.power, c='C1')\n",
    "plt.ylabel('power / W')\n"
   ]
  },
  {
   "cell_type": "markdown",
   "id": "3d027e29",
   "metadata": {},
   "source": [
    "## The power of noise\n",
    "\n",
    "Well, in most cases real measurements have so surprises for us. Sometimes they look like noise, sometimes they actually are… Let's investigate this case and take a closer look."
   ]
  },
  {
   "cell_type": "code",
   "execution_count": null,
   "id": "42f538ff",
   "metadata": {},
   "outputs": [],
   "source": [
    "pf = df[df.lap == 1] # let's call this a plotframe\n",
    "\n",
    "plt.figure(dpi=200, figsize=(8,4))\n",
    "\n",
    "plt.plot(pf.hr)\n",
    "plt.xlabel('elapsed time / s')\n",
    "plt.ylabel('heartrate / bpm')\n",
    "\n",
    "plt.twinx().plot(pf.power, c='C1')\n",
    "plt.ylabel('power / W')"
   ]
  },
  {
   "cell_type": "markdown",
   "id": "0e3fcd5f",
   "metadata": {},
   "source": [
    "## Applying some smoothing\n",
    "\n",
    "The almighty trick is smoothing the data. That can often be done by the means of rolling averages. Applying these only means, that in a timeseries at any give point in time you look at the average of the previous n values. Be careful though to not include data from the future when applying this  to your ML input data."
   ]
  },
  {
   "cell_type": "code",
   "execution_count": null,
   "id": "08306eb1",
   "metadata": {},
   "outputs": [],
   "source": [
    "pf = df[df.lap == 1] # let's call this a plotframe\n",
    "\n",
    "plt.figure(dpi=200, figsize=(8,4))\n",
    "\n",
    "plt.plot(pf.hr.rolling(60).mean(), label='hr')\n",
    "plt.xlabel('elapsed time / s')\n",
    "plt.ylabel('heartrate / bpm')\n",
    "\n",
    "plt.legend()\n",
    "\n",
    "plt.twinx().plot(pf.power.rolling(120, min_periods=1).mean(), c='C1', label='power')\n",
    "plt.ylabel('power / W')\n",
    "\n",
    "plt.legend()"
   ]
  },
  {
   "cell_type": "markdown",
   "id": "bdb0dec8",
   "metadata": {},
   "source": [
    "## Dealing with offsets\n",
    "\n",
    "In our sample the heartrate data seems to be slightly off from the power data. This can be explained by the cardial system responding to the change in power. Therefore, we can assume a _causal_ connection between the two variables. A change in power leads to a change in the heartrate.\n",
    "\n",
    "We will use an auto-correlation approach to estimate the size of the offset."
   ]
  },
  {
   "cell_type": "code",
   "execution_count": null,
   "id": "4cab7502",
   "metadata": {},
   "outputs": [],
   "source": [
    "def calc_auto_correlation_shift(a,b):\n",
    "    max_corr = 0\n",
    "    pos = 0\n",
    "    \n",
    "    for i in range(len(b)):\n",
    "        corr = np.correlate(a, np.roll(b,i))\n",
    "        if np.abs(corr) > np.abs(max_corr):\n",
    "            max_corr = corr\n",
    "            pos = i\n",
    "    \n",
    "    return corr/len(b),pos"
   ]
  },
  {
   "cell_type": "markdown",
   "id": "1f53cb18",
   "metadata": {},
   "source": [
    "## Apply the auto correlation to our hr and power data"
   ]
  },
  {
   "cell_type": "code",
   "execution_count": null,
   "id": "540492ab",
   "metadata": {},
   "outputs": [],
   "source": [
    "a = pf.hr.rolling(60, min_periods=1).mean().values\n",
    "b = pf.power.rolling(60, min_periods=1).mean().values\n",
    "\n",
    "calc_auto_correlation_shift(a,b)"
   ]
  },
  {
   "cell_type": "markdown",
   "id": "5c64a4d6",
   "metadata": {},
   "source": [
    "## Shift the data before plotting"
   ]
  },
  {
   "cell_type": "code",
   "execution_count": null,
   "id": "930d89a9",
   "metadata": {},
   "outputs": [],
   "source": [
    "pf = df[df.lap == 1] # let's call this a plotframe\n",
    "\n",
    "plt.figure(dpi=200, figsize=(8,4))\n",
    "\n",
    "plt.plot(pf.hr.rolling(60, center=True).mean(), label='hr')\n",
    "plt.xlabel('elapsed time / s')\n",
    "plt.ylabel('heartrate / bpm')\n",
    "\n",
    "plt.legend()\n",
    "\n",
    "plt.twinx().plot(pf.power.rolling(60, center=True, min_periods=1).mean().shift(33), c='C1', label='power')\n",
    "plt.ylabel('power / W')\n",
    "\n",
    "plt.legend()"
   ]
  },
  {
   "cell_type": "markdown",
   "id": "d9142230",
   "metadata": {},
   "source": [
    "## Scatter plots for visualisations of correlation"
   ]
  },
  {
   "cell_type": "code",
   "execution_count": null,
   "id": "c98faa13",
   "metadata": {},
   "outputs": [],
   "source": [
    "plt.scatter(\n",
    "    pf.hr.rolling(60, center=True).mean(),\n",
    "    pf.power.rolling(60, center=True).mean()\n",
    ")\n",
    "plt.scatter(\n",
    "    pf.hr.rolling(60, center=True).mean(),\n",
    "    pf.power.rolling(60, center=True).mean().shift(33)\n",
    ")"
   ]
  },
  {
   "cell_type": "code",
   "execution_count": null,
   "id": "eb034321",
   "metadata": {},
   "outputs": [],
   "source": [
    "pf = df[df.lap==10]\n",
    "\n",
    "r_hr = 60\n",
    "r_power = 60\n",
    "\n",
    "a = pf.hr.rolling(r_hr, min_periods=1).mean().values\n",
    "b = pf.power.rolling(r_power, min_periods=1).mean().values\n",
    "\n",
    "cor,shift = calc_auto_correlation_shift(a,b)\n",
    "\n",
    "print(shift)\n",
    "\n",
    "plt.figure(dpi=200, figsize=(8,4))\n",
    "\n",
    "plt.plot(pf.hr.rolling(r_hr, center=True).mean(), label='hr')\n",
    "plt.xlabel('elapsed time / s')\n",
    "plt.ylabel('heartrate / bpm')\n",
    "\n",
    "plt.legend()\n",
    "\n",
    "plt.twinx().plot(pf.power.rolling(r_power, center=True, min_periods=1).mean().shift(shift), c='C1', label='power')\n",
    "plt.ylabel('power / W')\n",
    "\n",
    "plt.legend()"
   ]
  },
  {
   "cell_type": "markdown",
   "id": "21fbca8a",
   "metadata": {},
   "source": [
    "# Machine Learning"
   ]
  },
  {
   "cell_type": "code",
   "execution_count": null,
   "id": "facfa24c",
   "metadata": {},
   "outputs": [],
   "source": [
    "model = RandomForestRegressor()"
   ]
  },
  {
   "cell_type": "markdown",
   "id": "d7501fd8",
   "metadata": {},
   "source": [
    "## A helper function to create datasets"
   ]
  },
  {
   "cell_type": "code",
   "execution_count": null,
   "id": "e555ae28",
   "metadata": {},
   "outputs": [],
   "source": [
    "def prepare_df(df, lap=1, shift=0):\n",
    "    train_df = df[df.lap==lap][['hr','power']].fillna(method='ffill').copy()\n",
    "    print(lap, len(train_df))\n",
    "    \n",
    "    train_df['p030'] = df.power.rolling(30).mean()\n",
    "    train_df['p060'] = df.power.rolling(30).mean()\n",
    "    train_df['p300'] = df.power.rolling(30).mean()\n",
    "    train_df['p600'] = df.power.rolling(30).mean()\n",
    "\n",
    "    train_df['s030'] = df.power.rolling(30).std()\n",
    "    train_df['s060'] = df.power.rolling(30).std()\n",
    "    train_df['s300'] = df.power.rolling(30).std()\n",
    "    train_df['s600'] = df.power.rolling(30).std()\n",
    "    \n",
    "    train_df['target'] = train_df.hr.shift(shift).astype(float)\n",
    "    train_df = train_df.dropna()\n",
    "    \n",
    "    return train_df"
   ]
  },
  {
   "cell_type": "markdown",
   "id": "16c249c8",
   "metadata": {},
   "source": [
    "## Step1: Just power and heartrate"
   ]
  },
  {
   "cell_type": "code",
   "execution_count": null,
   "id": "44ec4ee4",
   "metadata": {},
   "outputs": [],
   "source": [
    "train_df = prepare_df(df, 1, shift=0)\n",
    "\n",
    "X_train = train_df.power.values\n",
    "y_train = train_df.target"
   ]
  },
  {
   "cell_type": "code",
   "execution_count": null,
   "id": "70804565",
   "metadata": {},
   "outputs": [],
   "source": [
    "model.fit(X_train.reshape(-1, 1),y_train)"
   ]
  },
  {
   "cell_type": "code",
   "execution_count": null,
   "id": "a426dd0c",
   "metadata": {},
   "outputs": [],
   "source": [
    "y_pred = model.predict(X_train.reshape(-1, 1))"
   ]
  },
  {
   "cell_type": "markdown",
   "id": "c07145ae",
   "metadata": {},
   "source": [
    "### Plot the results"
   ]
  },
  {
   "cell_type": "code",
   "execution_count": null,
   "id": "b77b3765",
   "metadata": {},
   "outputs": [],
   "source": [
    "plt.figure(figsize=(8,4), dpi=100)\n",
    "\n",
    "plt.plot(pd.Series(y_pred).rolling(60).mean())\n",
    "plt.plot(pd.Series(y_train).rolling(60).mean().values)"
   ]
  },
  {
   "cell_type": "markdown",
   "id": "7bab971d",
   "metadata": {},
   "source": [
    "## Step 2: including more variables"
   ]
  },
  {
   "cell_type": "code",
   "execution_count": null,
   "id": "2a32077d",
   "metadata": {},
   "outputs": [],
   "source": [
    "X_train = train_df.drop(['hr','target'], axis=1).values\n",
    "y_train = train_df.target"
   ]
  },
  {
   "cell_type": "code",
   "execution_count": null,
   "id": "ef1cc555",
   "metadata": {},
   "outputs": [],
   "source": [
    "model.fit(X_train,y_train)"
   ]
  },
  {
   "cell_type": "markdown",
   "id": "0678c551",
   "metadata": {},
   "source": [
    "### Apply the model to the _training_ data"
   ]
  },
  {
   "cell_type": "code",
   "execution_count": null,
   "id": "69b7ccab",
   "metadata": {},
   "outputs": [],
   "source": [
    "y_pred = model.predict(X_train)"
   ]
  },
  {
   "cell_type": "code",
   "execution_count": null,
   "id": "047ae4e2",
   "metadata": {},
   "outputs": [],
   "source": [
    "plt.figure(figsize=(8,4), dpi=100)\n",
    "\n",
    "plt.plot(pd.Series(y_pred).rolling(60).mean())\n",
    "plt.plot(pd.Series(y_train).rolling(60).mean().values)"
   ]
  },
  {
   "cell_type": "markdown",
   "id": "fe9906f8",
   "metadata": {},
   "source": [
    "### Get some independent test data and apply the model"
   ]
  },
  {
   "cell_type": "code",
   "execution_count": null,
   "id": "85c709d4",
   "metadata": {},
   "outputs": [],
   "source": [
    "test_df = prepare_df(df, 3, shift=0)\n",
    "X_test = test_df.drop(['hr','target'], axis=1).values\n",
    "y_test = test_df.target"
   ]
  },
  {
   "cell_type": "code",
   "execution_count": null,
   "id": "e921a4de",
   "metadata": {},
   "outputs": [],
   "source": [
    "y_pred = model.predict(X_test)"
   ]
  },
  {
   "cell_type": "code",
   "execution_count": null,
   "id": "59a48c98",
   "metadata": {},
   "outputs": [],
   "source": [
    "plt.figure(figsize=(8,4), dpi=100)\n",
    "\n",
    "window=60\n",
    "\n",
    "plt.plot(pd.Series(y_pred).rolling(window).mean())\n",
    "plt.plot(pd.Series(y_test).rolling(window).mean().values)\n",
    "\n",
    "plt.xlabel('time / s')"
   ]
  },
  {
   "cell_type": "markdown",
   "id": "b10cd613",
   "metadata": {},
   "source": [
    "## A validation approach"
   ]
  },
  {
   "cell_type": "code",
   "execution_count": null,
   "id": "461735e3",
   "metadata": {},
   "outputs": [],
   "source": [
    "fig, axes = plt.subplots(1,2,dpi=100,figsize=(8,4))\n",
    "\n",
    "axes[0].hist(\n",
    "    pd.Series(y_pred).rolling(window).mean().values-\n",
    "    pd.Series(y_test).rolling(window).mean().values,\n",
    "    bins=np.linspace(-50,50,61)\n",
    ");\n",
    "axes[0].set_title(f'Rolling {window}')\n",
    "\n",
    "axes[1].hist(\n",
    "    pd.Series(y_pred).values-\n",
    "    pd.Series(y_test).values,\n",
    "    bins=np.linspace(-50,50,61)\n",
    ");\n",
    "axes[1].set_title('Raw data')"
   ]
  },
  {
   "cell_type": "markdown",
   "id": "62d4c288",
   "metadata": {},
   "source": [
    "## Try yourself"
   ]
  },
  {
   "cell_type": "markdown",
   "id": "1df9891b",
   "metadata": {},
   "source": [
    "### Improve the prediction"
   ]
  },
  {
   "cell_type": "code",
   "execution_count": null,
   "id": "a4f9412a",
   "metadata": {},
   "outputs": [],
   "source": [
    "#Your code goes here\n",
    "\n",
    "\n"
   ]
  },
  {
   "cell_type": "markdown",
   "id": "66acd52e",
   "metadata": {},
   "source": [
    "### Predict the current heartrate"
   ]
  },
  {
   "cell_type": "code",
   "execution_count": null,
   "id": "42e0e022",
   "metadata": {},
   "outputs": [],
   "source": [
    "#Your code goes here\n",
    "\n",
    "\n"
   ]
  },
  {
   "cell_type": "markdown",
   "id": "02b8ad1a",
   "metadata": {},
   "source": [
    "### Predict the future heartrate\n",
    "\n",
    "* Think about using additional data"
   ]
  },
  {
   "cell_type": "code",
   "execution_count": null,
   "id": "970e9b45",
   "metadata": {},
   "outputs": [],
   "source": [
    "#Your code goes here\n",
    "\n",
    "\n"
   ]
  }
 ],
 "metadata": {
  "kernelspec": {
   "display_name": "Python 3 (ipykernel)",
   "language": "python",
   "name": "python3"
  },
  "language_info": {
   "codemirror_mode": {
    "name": "ipython",
    "version": 3
   },
   "file_extension": ".py",
   "mimetype": "text/x-python",
   "name": "python",
   "nbconvert_exporter": "python",
   "pygments_lexer": "ipython3",
   "version": "3.9.12"
  }
 },
 "nbformat": 4,
 "nbformat_minor": 5
}
